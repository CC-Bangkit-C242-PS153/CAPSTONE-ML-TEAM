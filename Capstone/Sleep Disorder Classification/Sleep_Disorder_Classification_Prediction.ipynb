{
 "cells": [
  {
   "cell_type": "markdown",
   "metadata": {},
   "source": [
    "# Library"
   ]
  },
  {
   "cell_type": "code",
   "execution_count": 13,
   "metadata": {},
   "outputs": [],
   "source": [
    "import tensorflow as tf\n",
    "import numpy as np"
   ]
  },
  {
   "cell_type": "markdown",
   "metadata": {},
   "source": [
    "# Load the model"
   ]
  },
  {
   "cell_type": "code",
   "execution_count": 14,
   "metadata": {},
   "outputs": [
    {
     "name": "stderr",
     "output_type": "stream",
     "text": [
      "WARNING:absl:Compiled the loaded model, but the compiled metrics have yet to be built. `model.compile_metrics` will be empty until you train or evaluate the model.\n"
     ]
    }
   ],
   "source": [
    "model = tf.keras.models.load_model('Model Checkpoint/sleep_disorder model.h5')"
   ]
  },
  {
   "cell_type": "markdown",
   "metadata": {},
   "source": [
    "# Predict"
   ]
  },
  {
   "cell_type": "code",
   "execution_count": 15,
   "metadata": {},
   "outputs": [
    {
     "name": "stdout",
     "output_type": "stream",
     "text": [
      "\u001b[1m1/1\u001b[0m \u001b[32m━━━━━━━━━━━━━━━━━━━━\u001b[0m\u001b[37m\u001b[0m \u001b[1m0s\u001b[0m 116ms/step\n",
      "Data 1:\n",
      "Predicted Probabilities: [0.15020196 0.80019045 0.04960756]\n",
      "Predicted Class: 1\n",
      "------------------------------\n",
      "Data 2:\n",
      "Predicted Probabilities: [0.00970381 0.9356466  0.05464958]\n",
      "Predicted Class: 1\n",
      "------------------------------\n",
      "Data 3:\n",
      "Predicted Probabilities: [0.00970381 0.9356466  0.05464958]\n",
      "Predicted Class: 1\n",
      "------------------------------\n",
      "Data 4:\n",
      "Predicted Probabilities: [0.09134616 0.03510132 0.87355256]\n",
      "Predicted Class: 2\n",
      "------------------------------\n",
      "Data 5:\n",
      "Predicted Probabilities: [0.09134616 0.03510132 0.87355256]\n",
      "Predicted Class: 2\n",
      "------------------------------\n"
     ]
    }
   ],
   "source": [
    "new_data = np.array([\n",
    "    [1, 27, 6.1, 6, 42, 6, 3, 77, 4200, 126, 83],  \n",
    "    [1, 28, 6.2, 6, 60, 8, 0, 75, 10000, 125, 80],  \n",
    "    [1, 28, 6.2, 6, 60, 8, 0, 75, 10000, 125, 80],  \n",
    "    [1, 28, 5.9, 4, 30, 8, 2, 85, 3000, 140, 90],  \n",
    "    [1, 28, 5.9, 4, 30, 8, 2, 85, 3000, 140, 90]   \n",
    "])\n",
    "\n",
    "predictions = model.predict(new_data)\n",
    "\n",
    "for i, prediction in enumerate(predictions):\n",
    "    print(f\"Data {i+1}:\")\n",
    "    print(\"Predicted Probabilities:\", prediction)  \n",
    "    predicted_class = np.argmax(prediction)  \n",
    "    print(\"Predicted Class:\", predicted_class)\n",
    "    print('-' * 30)"
   ]
  },
  {
   "cell_type": "code",
   "execution_count": 16,
   "metadata": {},
   "outputs": [
    {
     "name": "stdout",
     "output_type": "stream",
     "text": [
      "Model architecture has been saved as JSON.\n"
     ]
    }
   ],
   "source": [
    "model_json = model.to_json()\n",
    "\n",
    "with open('model_architecture.json', 'w') as json_file:\n",
    "    json_file.write(model_json)\n",
    "\n",
    "print(\"Model architecture has been saved as JSON.\")"
   ]
  },
  {
   "cell_type": "code",
   "execution_count": 17,
   "metadata": {},
   "outputs": [
    {
     "name": "stdout",
     "output_type": "stream",
     "text": [
      "Model weights have been saved as .bin.\n"
     ]
    }
   ],
   "source": [
    "weights = model.get_weights()\n",
    "\n",
    "with open('model_weights.bin', 'wb') as bin_file:\n",
    "    for weight_array in weights:\n",
    "        weight_array.astype(np.float32).tofile(bin_file)\n",
    "\n",
    "print(\"Model weights have been saved as .bin.\")"
   ]
  }
 ],
 "metadata": {
  "kernelspec": {
   "display_name": "Python 3",
   "language": "python",
   "name": "python3"
  },
  "language_info": {
   "codemirror_mode": {
    "name": "ipython",
    "version": 3
   },
   "file_extension": ".py",
   "mimetype": "text/x-python",
   "name": "python",
   "nbconvert_exporter": "python",
   "pygments_lexer": "ipython3",
   "version": "3.12.6"
  }
 },
 "nbformat": 4,
 "nbformat_minor": 2
}
